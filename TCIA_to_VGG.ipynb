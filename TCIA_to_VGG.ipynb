{
  "nbformat": 4,
  "nbformat_minor": 0,
  "metadata": {
    "colab": {
      "provenance": []
    },
    "kernelspec": {
      "name": "python3",
      "display_name": "Python 3"
    },
    "language_info": {
      "name": "python"
    }
  },
  "cells": [
    {
      "cell_type": "code",
      "execution_count": 1,
      "metadata": {
        "colab": {
          "base_uri": "https://localhost:8080/"
        },
        "id": "iusyII0OrfbX",
        "outputId": "4a050e7f-f98b-483b-df7d-38a31200ebeb"
      },
      "outputs": [
        {
          "output_type": "stream",
          "name": "stdout",
          "text": [
            "\u001b[K     |████████████████████████████████| 2.1 MB 16.1 MB/s \n",
            "\u001b[2K     \u001b[90m━━━━━━━━━━━━━━━━━━━━━━━━━━━━━━━━━━━━━━━━\u001b[0m \u001b[32m62.8/62.8 kB\u001b[0m \u001b[31m3.5 MB/s\u001b[0m eta \u001b[36m0:00:00\u001b[0m\n",
            "\u001b[?25h\u001b[33mWARNING: Running pip as the 'root' user can result in broken permissions and conflicting behaviour with the system package manager. It is recommended to use a virtual environment instead: https://pip.pypa.io/warnings/venv\u001b[0m\u001b[33m\n",
            "\u001b[2K     \u001b[90m━━━━━━━━━━━━━━━━━━━━━━━━━━━━━━━━━━━━━━━━\u001b[0m \u001b[32m12.2/12.2 MB\u001b[0m \u001b[31m44.8 MB/s\u001b[0m eta \u001b[36m0:00:00\u001b[0m\n",
            "\u001b[?25h\u001b[33mWARNING: Running pip as the 'root' user can result in broken permissions and conflicting behaviour with the system package manager. It is recommended to use a virtual environment instead: https://pip.pypa.io/warnings/venv\u001b[0m\u001b[33m\n",
            "\u001b[0m"
          ]
        }
      ],
      "source": [
        "import os\n",
        "import sys\n",
        "\n",
        "# Upgrade pip, just in case...\n",
        "!{sys.executable} -m pip install --upgrade -q pip\n",
        "\n",
        "# Install requests for downloading data.\n",
        "!{sys.executable} -m pip install --upgrade -q requests\n",
        "!{sys.executable} -m pip install --upgrade -q pandas\n",
        "\n",
        "import requests\n",
        "\n",
        "tcia_utils_text = requests.get(\"https://github.com/kirbyju/TCIA_Notebooks/raw/main/tcia_utils.py\")\n",
        "with open('tcia_utils.py', 'wb') as f:\n",
        "    f.write(tcia_utils_text.content)\n",
        "\n",
        "import tcia_utils as tcia"
      ]
    },
    {
      "cell_type": "code",
      "source": [
        "\n",
        "from builtins import range, input\n",
        "\n",
        "from tensorflow.keras.layers import Input, Lambda, Dense, Flatten, GlobalAveragePooling2D, Dropout\n",
        "from tensorflow.keras.models import Model, load_model\n",
        "from tensorflow.keras.applications import VGG19\n",
        "from tensorflow.keras.applications.vgg16 import preprocess_input\n",
        "from tensorflow.keras.preprocessing import image\n",
        "from tensorflow.keras.preprocessing.image import ImageDataGenerator\n",
        "\n",
        "from sklearn.metrics import confusion_matrix, roc_curve\n",
        "import seaborn as sns\n",
        "import numpy as np\n",
        "import matplotlib.pyplot as plt\n",
        "\n",
        "from glob import glob\n",
        "import pandas as pd\n",
        "import cv2\n",
        "\n",
        "from sklearn.model_selection import train_test_split\n",
        "from sklearn.preprocessing import LabelBinarizer\n",
        "from tensorflow.keras.utils import to_categorical"
      ],
      "metadata": {
        "id": "BYgQVHXJyLah"
      },
      "execution_count": 12,
      "outputs": []
    },
    {
      "cell_type": "markdown",
      "source": [
        "## Load, process, and label the cancer data "
      ],
      "metadata": {
        "id": "5eYuG77Utv7F"
      }
    },
    {
      "cell_type": "code",
      "source": [
        "# Download a \"Shared Cart\" that has been previously \n",
        "#    created via the NBIA webset \n",
        "#    (https://nbia.cancerimagingarchive.net)\n",
        "cartName = \"nbia-47881669847357616\" # Our lung cancer data's first subject\n",
        "\n",
        "# retrieve cart metadata\n",
        "cart_data = tcia.getSharedCart(cartName)\n",
        "\n",
        "# download the series_uids list and return dataframe of metadata\n",
        "df = tcia.downloadSeries(cart_data)\n",
        "\n",
        "# display dataframe\n",
        "display(df)"
      ],
      "metadata": {
        "colab": {
          "base_uri": "https://localhost:8080/",
          "height": 402
        },
        "id": "OadZcSykr4zF",
        "outputId": "006b8d31-2fab-4e1f-b683-70a0e545f68e"
      },
      "execution_count": 2,
      "outputs": [
        {
          "output_type": "stream",
          "name": "stdout",
          "text": [
            "Calling...  https://services.cancerimagingarchive.net/nbia-api/services/v1/getContentsByName?name=nbia-47881669847357616\n",
            "Downloading 2 Series Instance UIDs (scans).\n",
            "Downloading... https://services.cancerimagingarchive.net/nbia-api/services/v1/getImage?NewFileNames=Yes&SeriesInstanceUID=1.3.6.1.4.1.14519.5.2.1.6655.2359.213534032021332276911485641315\n",
            "Downloading... https://services.cancerimagingarchive.net/nbia-api/services/v1/getImage?NewFileNames=Yes&SeriesInstanceUID=1.3.6.1.4.1.14519.5.2.1.6655.2359.257508444832901632590301540805\n",
            "Download Complete: 2 Series Instance UIDs (scans).\n"
          ]
        },
        {
          "output_type": "display_data",
          "data": {
            "text/plain": [
              "                                          Series UID      Collection  \\\n",
              "0  1.3.6.1.4.1.14519.5.2.1.6655.2359.213534032021...  Lung-PET-CT-Dx   \n",
              "1  1.3.6.1.4.1.14519.5.2.1.6655.2359.257508444832...  Lung-PET-CT-Dx   \n",
              "\n",
              "                          Data Description URI     Subject ID  \\\n",
              "0  https://doi.org/10.7937/TCIA.2020.NNC2-0461  Lung_Dx-A0001   \n",
              "1  https://doi.org/10.7937/TCIA.2020.NNC2-0461  Lung_Dx-A0001   \n",
              "\n",
              "                                           Study UID Study Description  \\\n",
              "0  1.3.6.1.4.1.14519.5.2.1.6655.2359.165554066086...             Chest   \n",
              "1  1.3.6.1.4.1.14519.5.2.1.6655.2359.165554066086...             Chest   \n",
              "\n",
              "   Study Date Series Description Manufacturer Modality  \\\n",
              "0  04-04-2007                5mm      Philips       CT   \n",
              "1  04-04-2007                5mm      Philips       CT   \n",
              "\n",
              "               SOP Class UID Number of Images File Size Series Number  \\\n",
              "0  1.2.840.10008.5.1.4.1.1.2               64  33750912      3.000000   \n",
              "1  1.2.840.10008.5.1.4.1.1.2               64  33750912      2.000000   \n",
              "\n",
              "                                        License Name  \\\n",
              "0  Creative Commons Attribution 4.0 International...   \n",
              "1  Creative Commons Attribution 4.0 International...   \n",
              "\n",
              "                                    License URL Annotation Size  \n",
              "0  https://creativecommons.org/licenses/by/4.0/               0  \n",
              "1  https://creativecommons.org/licenses/by/4.0/               0  "
            ],
            "text/html": [
              "\n",
              "  <div id=\"df-6e721c81-dfea-4b26-aed5-64d5059ff888\">\n",
              "    <div class=\"colab-df-container\">\n",
              "      <div>\n",
              "<style scoped>\n",
              "    .dataframe tbody tr th:only-of-type {\n",
              "        vertical-align: middle;\n",
              "    }\n",
              "\n",
              "    .dataframe tbody tr th {\n",
              "        vertical-align: top;\n",
              "    }\n",
              "\n",
              "    .dataframe thead th {\n",
              "        text-align: right;\n",
              "    }\n",
              "</style>\n",
              "<table border=\"1\" class=\"dataframe\">\n",
              "  <thead>\n",
              "    <tr style=\"text-align: right;\">\n",
              "      <th></th>\n",
              "      <th>Series UID</th>\n",
              "      <th>Collection</th>\n",
              "      <th>Data Description URI</th>\n",
              "      <th>Subject ID</th>\n",
              "      <th>Study UID</th>\n",
              "      <th>Study Description</th>\n",
              "      <th>Study Date</th>\n",
              "      <th>Series Description</th>\n",
              "      <th>Manufacturer</th>\n",
              "      <th>Modality</th>\n",
              "      <th>SOP Class UID</th>\n",
              "      <th>Number of Images</th>\n",
              "      <th>File Size</th>\n",
              "      <th>Series Number</th>\n",
              "      <th>License Name</th>\n",
              "      <th>License URL</th>\n",
              "      <th>Annotation Size</th>\n",
              "    </tr>\n",
              "  </thead>\n",
              "  <tbody>\n",
              "    <tr>\n",
              "      <th>0</th>\n",
              "      <td>1.3.6.1.4.1.14519.5.2.1.6655.2359.213534032021...</td>\n",
              "      <td>Lung-PET-CT-Dx</td>\n",
              "      <td>https://doi.org/10.7937/TCIA.2020.NNC2-0461</td>\n",
              "      <td>Lung_Dx-A0001</td>\n",
              "      <td>1.3.6.1.4.1.14519.5.2.1.6655.2359.165554066086...</td>\n",
              "      <td>Chest</td>\n",
              "      <td>04-04-2007</td>\n",
              "      <td>5mm</td>\n",
              "      <td>Philips</td>\n",
              "      <td>CT</td>\n",
              "      <td>1.2.840.10008.5.1.4.1.1.2</td>\n",
              "      <td>64</td>\n",
              "      <td>33750912</td>\n",
              "      <td>3.000000</td>\n",
              "      <td>Creative Commons Attribution 4.0 International...</td>\n",
              "      <td>https://creativecommons.org/licenses/by/4.0/</td>\n",
              "      <td>0</td>\n",
              "    </tr>\n",
              "    <tr>\n",
              "      <th>1</th>\n",
              "      <td>1.3.6.1.4.1.14519.5.2.1.6655.2359.257508444832...</td>\n",
              "      <td>Lung-PET-CT-Dx</td>\n",
              "      <td>https://doi.org/10.7937/TCIA.2020.NNC2-0461</td>\n",
              "      <td>Lung_Dx-A0001</td>\n",
              "      <td>1.3.6.1.4.1.14519.5.2.1.6655.2359.165554066086...</td>\n",
              "      <td>Chest</td>\n",
              "      <td>04-04-2007</td>\n",
              "      <td>5mm</td>\n",
              "      <td>Philips</td>\n",
              "      <td>CT</td>\n",
              "      <td>1.2.840.10008.5.1.4.1.1.2</td>\n",
              "      <td>64</td>\n",
              "      <td>33750912</td>\n",
              "      <td>2.000000</td>\n",
              "      <td>Creative Commons Attribution 4.0 International...</td>\n",
              "      <td>https://creativecommons.org/licenses/by/4.0/</td>\n",
              "      <td>0</td>\n",
              "    </tr>\n",
              "  </tbody>\n",
              "</table>\n",
              "</div>\n",
              "      <button class=\"colab-df-convert\" onclick=\"convertToInteractive('df-6e721c81-dfea-4b26-aed5-64d5059ff888')\"\n",
              "              title=\"Convert this dataframe to an interactive table.\"\n",
              "              style=\"display:none;\">\n",
              "        \n",
              "  <svg xmlns=\"http://www.w3.org/2000/svg\" height=\"24px\"viewBox=\"0 0 24 24\"\n",
              "       width=\"24px\">\n",
              "    <path d=\"M0 0h24v24H0V0z\" fill=\"none\"/>\n",
              "    <path d=\"M18.56 5.44l.94 2.06.94-2.06 2.06-.94-2.06-.94-.94-2.06-.94 2.06-2.06.94zm-11 1L8.5 8.5l.94-2.06 2.06-.94-2.06-.94L8.5 2.5l-.94 2.06-2.06.94zm10 10l.94 2.06.94-2.06 2.06-.94-2.06-.94-.94-2.06-.94 2.06-2.06.94z\"/><path d=\"M17.41 7.96l-1.37-1.37c-.4-.4-.92-.59-1.43-.59-.52 0-1.04.2-1.43.59L10.3 9.45l-7.72 7.72c-.78.78-.78 2.05 0 2.83L4 21.41c.39.39.9.59 1.41.59.51 0 1.02-.2 1.41-.59l7.78-7.78 2.81-2.81c.8-.78.8-2.07 0-2.86zM5.41 20L4 18.59l7.72-7.72 1.47 1.35L5.41 20z\"/>\n",
              "  </svg>\n",
              "      </button>\n",
              "      \n",
              "  <style>\n",
              "    .colab-df-container {\n",
              "      display:flex;\n",
              "      flex-wrap:wrap;\n",
              "      gap: 12px;\n",
              "    }\n",
              "\n",
              "    .colab-df-convert {\n",
              "      background-color: #E8F0FE;\n",
              "      border: none;\n",
              "      border-radius: 50%;\n",
              "      cursor: pointer;\n",
              "      display: none;\n",
              "      fill: #1967D2;\n",
              "      height: 32px;\n",
              "      padding: 0 0 0 0;\n",
              "      width: 32px;\n",
              "    }\n",
              "\n",
              "    .colab-df-convert:hover {\n",
              "      background-color: #E2EBFA;\n",
              "      box-shadow: 0px 1px 2px rgba(60, 64, 67, 0.3), 0px 1px 3px 1px rgba(60, 64, 67, 0.15);\n",
              "      fill: #174EA6;\n",
              "    }\n",
              "\n",
              "    [theme=dark] .colab-df-convert {\n",
              "      background-color: #3B4455;\n",
              "      fill: #D2E3FC;\n",
              "    }\n",
              "\n",
              "    [theme=dark] .colab-df-convert:hover {\n",
              "      background-color: #434B5C;\n",
              "      box-shadow: 0px 1px 3px 1px rgba(0, 0, 0, 0.15);\n",
              "      filter: drop-shadow(0px 1px 2px rgba(0, 0, 0, 0.3));\n",
              "      fill: #FFFFFF;\n",
              "    }\n",
              "  </style>\n",
              "\n",
              "      <script>\n",
              "        const buttonEl =\n",
              "          document.querySelector('#df-6e721c81-dfea-4b26-aed5-64d5059ff888 button.colab-df-convert');\n",
              "        buttonEl.style.display =\n",
              "          google.colab.kernel.accessAllowed ? 'block' : 'none';\n",
              "\n",
              "        async function convertToInteractive(key) {\n",
              "          const element = document.querySelector('#df-6e721c81-dfea-4b26-aed5-64d5059ff888');\n",
              "          const dataTable =\n",
              "            await google.colab.kernel.invokeFunction('convertToInteractive',\n",
              "                                                     [key], {});\n",
              "          if (!dataTable) return;\n",
              "\n",
              "          const docLinkHtml = 'Like what you see? Visit the ' +\n",
              "            '<a target=\"_blank\" href=https://colab.research.google.com/notebooks/data_table.ipynb>data table notebook</a>'\n",
              "            + ' to learn more about interactive tables.';\n",
              "          element.innerHTML = '';\n",
              "          dataTable['output_type'] = 'display_data';\n",
              "          await google.colab.output.renderOutput(dataTable, element);\n",
              "          const docLink = document.createElement('div');\n",
              "          docLink.innerHTML = docLinkHtml;\n",
              "          element.appendChild(docLink);\n",
              "        }\n",
              "      </script>\n",
              "    </div>\n",
              "  </div>\n",
              "  "
            ]
          },
          "metadata": {}
        }
      ]
    },
    {
      "cell_type": "code",
      "source": [
        "# Install itk for DICOM I/O and for reading DICOM into an itkImage \n",
        "#   that manages all DICOM field values, include acquistion details \n",
        "#   such as voxel image, image orientation, and image directions\n",
        "#   which are critical to image processing and display\n",
        "!{sys.executable} -m pip install --upgrade --pre -q \"itk==5.3rc4.post3\"\n",
        "\n",
        "# Additionally we'll install numpy and torch to explore a variety of \n",
        "#    image data structures\n",
        "!{sys.executable} -m pip install -q torch\n",
        "!{sys.executable} -m pip install -q numpy"
      ],
      "metadata": {
        "colab": {
          "base_uri": "https://localhost:8080/"
        },
        "id": "z3PgmNCOsLDZ",
        "outputId": "b3497127-f067-4686-f995-7c2d6da857d7"
      },
      "execution_count": 3,
      "outputs": [
        {
          "output_type": "stream",
          "name": "stdout",
          "text": [
            "\u001b[2K     \u001b[90m━━━━━━━━━━━━━━━━━━━━━━━━━━━━━━━━━━━━━━━━\u001b[0m \u001b[32m27.3/27.3 MB\u001b[0m \u001b[31m30.0 MB/s\u001b[0m eta \u001b[36m0:00:00\u001b[0m\n",
            "\u001b[2K     \u001b[90m━━━━━━━━━━━━━━━━━━━━━━━━━━━━━━━━━━━━━━━━\u001b[0m \u001b[32m26.2/26.2 MB\u001b[0m \u001b[31m46.1 MB/s\u001b[0m eta \u001b[36m0:00:00\u001b[0m\n",
            "\u001b[2K     \u001b[90m━━━━━━━━━━━━━━━━━━━━━━━━━━━━━━━━━━━━━━━━\u001b[0m \u001b[32m60.0/60.0 MB\u001b[0m \u001b[31m11.5 MB/s\u001b[0m eta \u001b[36m0:00:00\u001b[0m\n",
            "\u001b[2K     \u001b[90m━━━━━━━━━━━━━━━━━━━━━━━━━━━━━━━━━━━━━━━━\u001b[0m \u001b[32m83.6/83.6 MB\u001b[0m \u001b[31m10.7 MB/s\u001b[0m eta \u001b[36m0:00:00\u001b[0m\n",
            "\u001b[2K     \u001b[90m━━━━━━━━━━━━━━━━━━━━━━━━━━━━━━━━━━━━━━━━\u001b[0m \u001b[32m17.2/17.2 MB\u001b[0m \u001b[31m60.4 MB/s\u001b[0m eta \u001b[36m0:00:00\u001b[0m\n",
            "\u001b[2K     \u001b[90m━━━━━━━━━━━━━━━━━━━━━━━━━━━━━━━━━━━━━━━━\u001b[0m \u001b[32m75.9/75.9 MB\u001b[0m \u001b[31m11.6 MB/s\u001b[0m eta \u001b[36m0:00:00\u001b[0m\n",
            "\u001b[?25h\u001b[33mWARNING: Running pip as the 'root' user can result in broken permissions and conflicting behaviour with the system package manager. It is recommended to use a virtual environment instead: https://pip.pypa.io/warnings/venv\u001b[0m\u001b[33m\n",
            "\u001b[0m\u001b[33mWARNING: Running pip as the 'root' user can result in broken permissions and conflicting behaviour with the system package manager. It is recommended to use a virtual environment instead: https://pip.pypa.io/warnings/venv\u001b[0m\u001b[33m\n",
            "\u001b[0m\u001b[33mWARNING: Running pip as the 'root' user can result in broken permissions and conflicting behaviour with the system package manager. It is recommended to use a virtual environment instead: https://pip.pypa.io/warnings/venv\u001b[0m\u001b[33m\n",
            "\u001b[0m"
          ]
        }
      ]
    },
    {
      "cell_type": "code",
      "source": [
        "# Include ITK for DICOM reading\n",
        "import itk\n",
        "\n",
        "# Numpy for numpy.arrays\n",
        "import numpy as np\n",
        "\n",
        "# Torch for torch.tensors\n",
        "import torch"
      ],
      "metadata": {
        "id": "AiNyWnUKsPfN"
      },
      "execution_count": 4,
      "outputs": []
    },
    {
      "cell_type": "code",
      "source": [
        "# Install and import PyDICOM, then store file paths in list\n",
        "\n",
        "!{sys.executable} -m pip install pydicom\n",
        "\n",
        "import pydicom as di \n",
        "import os\n",
        "from os import listdir\n",
        "os.rename(\"tciaDownload\", \"tciaDownloadCancer\")\n",
        "PathDicom = \"tciaDownloadCancer\"\n",
        "DCMFiles = [] \n",
        "for dirName, subdirList, fileList in os.walk(PathDicom):\n",
        "    for filename in fileList:\n",
        "        if \".dcm\" in filename.lower():\n",
        "            DCMFiles.append(os.path.join(dirName,filename))\n",
        "print(\"Number of (.dcm) files =\", len(DCMFiles))"
      ],
      "metadata": {
        "colab": {
          "base_uri": "https://localhost:8080/"
        },
        "id": "4ktQqPxnshw5",
        "outputId": "b2756a9e-f51d-4762-bdce-7765f6562c1f"
      },
      "execution_count": 5,
      "outputs": [
        {
          "output_type": "stream",
          "name": "stdout",
          "text": [
            "Looking in indexes: https://pypi.org/simple, https://us-python.pkg.dev/colab-wheels/public/simple/\n",
            "Collecting pydicom\n",
            "  Downloading pydicom-2.3.1-py3-none-any.whl (2.0 MB)\n",
            "\u001b[2K     \u001b[90m━━━━━━━━━━━━━━━━━━━━━━━━━━━━━━━━━━━━━━━━\u001b[0m \u001b[32m2.0/2.0 MB\u001b[0m \u001b[31m30.2 MB/s\u001b[0m eta \u001b[36m0:00:00\u001b[0m\n",
            "\u001b[?25hInstalling collected packages: pydicom\n",
            "Successfully installed pydicom-2.3.1\n",
            "\u001b[33mWARNING: Running pip as the 'root' user can result in broken permissions and conflicting behaviour with the system package manager. It is recommended to use a virtual environment instead: https://pip.pypa.io/warnings/venv\u001b[0m\u001b[33m\n",
            "\u001b[0mNumber of (.dcm) files = 128\n"
          ]
        }
      ]
    },
    {
      "cell_type": "code",
      "source": [
        "# Extract pixel data from image files\n",
        "\n",
        "X_cancer = []\n",
        "y_cancer = []\n",
        "for k in DCMFiles:\n",
        "    Images = di.read_file(k,force=True)\n",
        "    X_cancer.append(Images.pixel_array)\n",
        "    y_cancer.append(1) # 0 = covid data, 1 = cancer data"
      ],
      "metadata": {
        "id": "uMWmKiuMs5dt"
      },
      "execution_count": 6,
      "outputs": []
    },
    {
      "cell_type": "code",
      "source": [
        "# Use the data frame to find the Series UID where the Modality is CT\n",
        "dicom_data_dir = \"tciaDownloadCancer/\"\n",
        "ct_series_uid = df.at[df.Modality.eq('CT').idxmax(), 'Series UID']\n",
        "dicom_ct_dir = os.path.join(dicom_data_dir, ct_series_uid)\n",
        "\n",
        "# Load and sort the DICOM data into a volume - since no series_uid is\n",
        "#    specified with this read command, it will load the first series in the directory.\n",
        "dicom_image_large = itk.imread(dicom_ct_dir, itk.F)\n",
        "\n",
        "# To save time for this demo, we subsample the image in the x and y dimensions\n",
        "new_spacing = list(dicom_image_large.GetSpacing())\n",
        "new_spacing[:2] = [x*3 for x in new_spacing[:2]]\n",
        "new_size = list(dicom_image_large.GetLargestPossibleRegion().GetSize())\n",
        "new_size[:2] = [x//3 for x in new_size[:2]]\n",
        "dicom_image = itk.resample_image_filter(Input=dicom_image_large,\n",
        "                                        output_spacing=new_spacing, \n",
        "                                        output_origin=dicom_image_large.GetOrigin(), \n",
        "                                        output_direction=dicom_image_large.GetDirection(),\n",
        "                                        size=new_size)\n",
        "print(f\"New spacing = {new_spacing}\")\n",
        "print(f\"New size = {new_size}\")"
      ],
      "metadata": {
        "colab": {
          "base_uri": "https://localhost:8080/"
        },
        "id": "gm-9odc_sbYf",
        "outputId": "e67947b9-1632-4872-b543-530ff9a2307b"
      },
      "execution_count": 7,
      "outputs": [
        {
          "output_type": "stream",
          "name": "stdout",
          "text": [
            "New spacing = [2.525390625, 2.525390625, 5.0]\n",
            "New size = [170, 170, 64]\n"
          ]
        }
      ]
    },
    {
      "cell_type": "markdown",
      "source": [
        "## Do it again for COVID data"
      ],
      "metadata": {
        "id": "MtGTzLC5tofx"
      }
    },
    {
      "cell_type": "code",
      "source": [
        "cartName = \"nbia-6761669942417940\" # Covid data\n",
        "\n",
        "# retrieve cart metadata\n",
        "cart_data = tcia.getSharedCart(cartName)\n",
        "\n",
        "# download the series_uids list and return dataframe of metadata\n",
        "df = tcia.downloadSeries(cart_data)\n",
        "\n",
        "# display dataframe\n",
        "display(df)"
      ],
      "metadata": {
        "colab": {
          "base_uri": "https://localhost:8080/",
          "height": 909
        },
        "id": "jSvVd6mXtrIH",
        "outputId": "3cae452a-d9a8-4012-8ef2-369ffda2fbc8"
      },
      "execution_count": 8,
      "outputs": [
        {
          "output_type": "stream",
          "name": "stdout",
          "text": [
            "Calling...  https://services.cancerimagingarchive.net/nbia-api/services/v1/getContentsByName?name=nbia-6761669942417940\n",
            "Downloading 6 Series Instance UIDs (scans).\n",
            "Downloading... https://services.cancerimagingarchive.net/nbia-api/services/v1/getImage?NewFileNames=Yes&SeriesInstanceUID=1.3.6.1.4.1.14519.5.2.1.99.1071.14850676509103506699400577275960\n",
            "Downloading... https://services.cancerimagingarchive.net/nbia-api/services/v1/getImage?NewFileNames=Yes&SeriesInstanceUID=1.3.6.1.4.1.14519.5.2.1.99.1071.21083349907841416087078944245719\n",
            "Downloading... https://services.cancerimagingarchive.net/nbia-api/services/v1/getImage?NewFileNames=Yes&SeriesInstanceUID=1.3.6.1.4.1.14519.5.2.1.99.1071.22090542070462647745743105373525\n",
            "Downloading... https://services.cancerimagingarchive.net/nbia-api/services/v1/getImage?NewFileNames=Yes&SeriesInstanceUID=1.3.6.1.4.1.14519.5.2.1.99.1071.22366983673254100505145504004129\n",
            "Downloading... https://services.cancerimagingarchive.net/nbia-api/services/v1/getImage?NewFileNames=Yes&SeriesInstanceUID=1.3.6.1.4.1.14519.5.2.1.99.1071.30475546417294220615667317485469\n",
            "Downloading... https://services.cancerimagingarchive.net/nbia-api/services/v1/getImage?NewFileNames=Yes&SeriesInstanceUID=1.3.6.1.4.1.14519.5.2.1.99.1071.85179820664090866578359430774215\n",
            "Download Complete: 6 Series Instance UIDs (scans).\n"
          ]
        },
        {
          "output_type": "display_data",
          "data": {
            "text/plain": [
              "                                          Series UID       Collection  \\\n",
              "0  1.3.6.1.4.1.14519.5.2.1.99.1071.14850676509103...  COVID-19-NY-SBU   \n",
              "1  1.3.6.1.4.1.14519.5.2.1.99.1071.21083349907841...  COVID-19-NY-SBU   \n",
              "2  1.3.6.1.4.1.14519.5.2.1.99.1071.22090542070462...  COVID-19-NY-SBU   \n",
              "3  1.3.6.1.4.1.14519.5.2.1.99.1071.22366983673254...  COVID-19-NY-SBU   \n",
              "4  1.3.6.1.4.1.14519.5.2.1.99.1071.30475546417294...  COVID-19-NY-SBU   \n",
              "5  1.3.6.1.4.1.14519.5.2.1.99.1071.85179820664090...  COVID-19-NY-SBU   \n",
              "\n",
              "  3rd Party Analysis                    Data Description URI Subject ID  \\\n",
              "0                 NO  https://doi.org/10.7937/TCIA.BBAG-2923    A034518   \n",
              "1                 NO  https://doi.org/10.7937/TCIA.BBAG-2923    A034518   \n",
              "2                 NO  https://doi.org/10.7937/TCIA.BBAG-2923    A034518   \n",
              "3                 NO  https://doi.org/10.7937/TCIA.BBAG-2923    A034518   \n",
              "4                 NO  https://doi.org/10.7937/TCIA.BBAG-2923    A034518   \n",
              "5                 NO  https://doi.org/10.7937/TCIA.BBAG-2923    A034518   \n",
              "\n",
              "                                           Study UID  \\\n",
              "0  1.3.6.1.4.1.14519.5.2.1.99.1071.28052166218470...   \n",
              "1  1.3.6.1.4.1.14519.5.2.1.99.1071.28052166218470...   \n",
              "2  1.3.6.1.4.1.14519.5.2.1.99.1071.28052166218470...   \n",
              "3  1.3.6.1.4.1.14519.5.2.1.99.1071.28052166218470...   \n",
              "4  1.3.6.1.4.1.14519.5.2.1.99.1071.28052166218470...   \n",
              "5  1.3.6.1.4.1.14519.5.2.1.99.1071.28052166218470...   \n",
              "\n",
              "                         Study Description  Study Date Series Description  \\\n",
              "0  CT ABD PELVISWITH CHEST IMAGES W IV CON  12-31-1900                2.0   \n",
              "1  CT ABD PELVISWITH CHEST IMAGES W IV CON  12-31-1900      Body 3.000 CE   \n",
              "2  CT ABD PELVISWITH CHEST IMAGES W IV CON  12-31-1900      Body 3.000 CE   \n",
              "3  CT ABD PELVISWITH CHEST IMAGES W IV CON  12-31-1900        Lung 1.0 CE   \n",
              "4  CT ABD PELVISWITH CHEST IMAGES W IV CON  12-31-1900        Body 5.0 CE   \n",
              "5  CT ABD PELVISWITH CHEST IMAGES W IV CON  12-31-1900        Lung 5.0 CE   \n",
              "\n",
              "  Manufacturer Modality              SOP Class UID Number of Images  \\\n",
              "0      TOSHIBA       CT  1.2.840.10008.5.1.4.1.1.2                2   \n",
              "1      TOSHIBA       CT  1.2.840.10008.5.1.4.1.1.2              118   \n",
              "2      TOSHIBA       CT  1.2.840.10008.5.1.4.1.1.2               89   \n",
              "3      TOSHIBA       CT  1.2.840.10008.5.1.4.1.1.2              596   \n",
              "4      TOSHIBA       CT  1.2.840.10008.5.1.4.1.1.2              120   \n",
              "5      TOSHIBA       CT  1.2.840.10008.5.1.4.1.1.2              120   \n",
              "\n",
              "   File Size Series Number                                       License Name  \\\n",
              "0    1314900      1.000000  Creative Commons Attribution 4.0 International...   \n",
              "1  160721790      7.000000  Creative Commons Attribution 4.0 International...   \n",
              "2  121222124      6.000000  Creative Commons Attribution 4.0 International...   \n",
              "3  314916466      4.000000  Creative Commons Attribution 4.0 International...   \n",
              "4   63405602      2.000000  Creative Commons Attribution 4.0 International...   \n",
              "5   63405842      3.000000  Creative Commons Attribution 4.0 International...   \n",
              "\n",
              "                                    License URL Annotation Size  \n",
              "0  https://creativecommons.org/licenses/by/4.0/               0  \n",
              "1  https://creativecommons.org/licenses/by/4.0/               0  \n",
              "2  https://creativecommons.org/licenses/by/4.0/               0  \n",
              "3  https://creativecommons.org/licenses/by/4.0/               0  \n",
              "4  https://creativecommons.org/licenses/by/4.0/               0  \n",
              "5  https://creativecommons.org/licenses/by/4.0/               0  "
            ],
            "text/html": [
              "\n",
              "  <div id=\"df-82cd7336-f61c-4285-976f-eddfbfee77d2\">\n",
              "    <div class=\"colab-df-container\">\n",
              "      <div>\n",
              "<style scoped>\n",
              "    .dataframe tbody tr th:only-of-type {\n",
              "        vertical-align: middle;\n",
              "    }\n",
              "\n",
              "    .dataframe tbody tr th {\n",
              "        vertical-align: top;\n",
              "    }\n",
              "\n",
              "    .dataframe thead th {\n",
              "        text-align: right;\n",
              "    }\n",
              "</style>\n",
              "<table border=\"1\" class=\"dataframe\">\n",
              "  <thead>\n",
              "    <tr style=\"text-align: right;\">\n",
              "      <th></th>\n",
              "      <th>Series UID</th>\n",
              "      <th>Collection</th>\n",
              "      <th>3rd Party Analysis</th>\n",
              "      <th>Data Description URI</th>\n",
              "      <th>Subject ID</th>\n",
              "      <th>Study UID</th>\n",
              "      <th>Study Description</th>\n",
              "      <th>Study Date</th>\n",
              "      <th>Series Description</th>\n",
              "      <th>Manufacturer</th>\n",
              "      <th>Modality</th>\n",
              "      <th>SOP Class UID</th>\n",
              "      <th>Number of Images</th>\n",
              "      <th>File Size</th>\n",
              "      <th>Series Number</th>\n",
              "      <th>License Name</th>\n",
              "      <th>License URL</th>\n",
              "      <th>Annotation Size</th>\n",
              "    </tr>\n",
              "  </thead>\n",
              "  <tbody>\n",
              "    <tr>\n",
              "      <th>0</th>\n",
              "      <td>1.3.6.1.4.1.14519.5.2.1.99.1071.14850676509103...</td>\n",
              "      <td>COVID-19-NY-SBU</td>\n",
              "      <td>NO</td>\n",
              "      <td>https://doi.org/10.7937/TCIA.BBAG-2923</td>\n",
              "      <td>A034518</td>\n",
              "      <td>1.3.6.1.4.1.14519.5.2.1.99.1071.28052166218470...</td>\n",
              "      <td>CT ABD PELVISWITH CHEST IMAGES W IV CON</td>\n",
              "      <td>12-31-1900</td>\n",
              "      <td>2.0</td>\n",
              "      <td>TOSHIBA</td>\n",
              "      <td>CT</td>\n",
              "      <td>1.2.840.10008.5.1.4.1.1.2</td>\n",
              "      <td>2</td>\n",
              "      <td>1314900</td>\n",
              "      <td>1.000000</td>\n",
              "      <td>Creative Commons Attribution 4.0 International...</td>\n",
              "      <td>https://creativecommons.org/licenses/by/4.0/</td>\n",
              "      <td>0</td>\n",
              "    </tr>\n",
              "    <tr>\n",
              "      <th>1</th>\n",
              "      <td>1.3.6.1.4.1.14519.5.2.1.99.1071.21083349907841...</td>\n",
              "      <td>COVID-19-NY-SBU</td>\n",
              "      <td>NO</td>\n",
              "      <td>https://doi.org/10.7937/TCIA.BBAG-2923</td>\n",
              "      <td>A034518</td>\n",
              "      <td>1.3.6.1.4.1.14519.5.2.1.99.1071.28052166218470...</td>\n",
              "      <td>CT ABD PELVISWITH CHEST IMAGES W IV CON</td>\n",
              "      <td>12-31-1900</td>\n",
              "      <td>Body 3.000 CE</td>\n",
              "      <td>TOSHIBA</td>\n",
              "      <td>CT</td>\n",
              "      <td>1.2.840.10008.5.1.4.1.1.2</td>\n",
              "      <td>118</td>\n",
              "      <td>160721790</td>\n",
              "      <td>7.000000</td>\n",
              "      <td>Creative Commons Attribution 4.0 International...</td>\n",
              "      <td>https://creativecommons.org/licenses/by/4.0/</td>\n",
              "      <td>0</td>\n",
              "    </tr>\n",
              "    <tr>\n",
              "      <th>2</th>\n",
              "      <td>1.3.6.1.4.1.14519.5.2.1.99.1071.22090542070462...</td>\n",
              "      <td>COVID-19-NY-SBU</td>\n",
              "      <td>NO</td>\n",
              "      <td>https://doi.org/10.7937/TCIA.BBAG-2923</td>\n",
              "      <td>A034518</td>\n",
              "      <td>1.3.6.1.4.1.14519.5.2.1.99.1071.28052166218470...</td>\n",
              "      <td>CT ABD PELVISWITH CHEST IMAGES W IV CON</td>\n",
              "      <td>12-31-1900</td>\n",
              "      <td>Body 3.000 CE</td>\n",
              "      <td>TOSHIBA</td>\n",
              "      <td>CT</td>\n",
              "      <td>1.2.840.10008.5.1.4.1.1.2</td>\n",
              "      <td>89</td>\n",
              "      <td>121222124</td>\n",
              "      <td>6.000000</td>\n",
              "      <td>Creative Commons Attribution 4.0 International...</td>\n",
              "      <td>https://creativecommons.org/licenses/by/4.0/</td>\n",
              "      <td>0</td>\n",
              "    </tr>\n",
              "    <tr>\n",
              "      <th>3</th>\n",
              "      <td>1.3.6.1.4.1.14519.5.2.1.99.1071.22366983673254...</td>\n",
              "      <td>COVID-19-NY-SBU</td>\n",
              "      <td>NO</td>\n",
              "      <td>https://doi.org/10.7937/TCIA.BBAG-2923</td>\n",
              "      <td>A034518</td>\n",
              "      <td>1.3.6.1.4.1.14519.5.2.1.99.1071.28052166218470...</td>\n",
              "      <td>CT ABD PELVISWITH CHEST IMAGES W IV CON</td>\n",
              "      <td>12-31-1900</td>\n",
              "      <td>Lung 1.0 CE</td>\n",
              "      <td>TOSHIBA</td>\n",
              "      <td>CT</td>\n",
              "      <td>1.2.840.10008.5.1.4.1.1.2</td>\n",
              "      <td>596</td>\n",
              "      <td>314916466</td>\n",
              "      <td>4.000000</td>\n",
              "      <td>Creative Commons Attribution 4.0 International...</td>\n",
              "      <td>https://creativecommons.org/licenses/by/4.0/</td>\n",
              "      <td>0</td>\n",
              "    </tr>\n",
              "    <tr>\n",
              "      <th>4</th>\n",
              "      <td>1.3.6.1.4.1.14519.5.2.1.99.1071.30475546417294...</td>\n",
              "      <td>COVID-19-NY-SBU</td>\n",
              "      <td>NO</td>\n",
              "      <td>https://doi.org/10.7937/TCIA.BBAG-2923</td>\n",
              "      <td>A034518</td>\n",
              "      <td>1.3.6.1.4.1.14519.5.2.1.99.1071.28052166218470...</td>\n",
              "      <td>CT ABD PELVISWITH CHEST IMAGES W IV CON</td>\n",
              "      <td>12-31-1900</td>\n",
              "      <td>Body 5.0 CE</td>\n",
              "      <td>TOSHIBA</td>\n",
              "      <td>CT</td>\n",
              "      <td>1.2.840.10008.5.1.4.1.1.2</td>\n",
              "      <td>120</td>\n",
              "      <td>63405602</td>\n",
              "      <td>2.000000</td>\n",
              "      <td>Creative Commons Attribution 4.0 International...</td>\n",
              "      <td>https://creativecommons.org/licenses/by/4.0/</td>\n",
              "      <td>0</td>\n",
              "    </tr>\n",
              "    <tr>\n",
              "      <th>5</th>\n",
              "      <td>1.3.6.1.4.1.14519.5.2.1.99.1071.85179820664090...</td>\n",
              "      <td>COVID-19-NY-SBU</td>\n",
              "      <td>NO</td>\n",
              "      <td>https://doi.org/10.7937/TCIA.BBAG-2923</td>\n",
              "      <td>A034518</td>\n",
              "      <td>1.3.6.1.4.1.14519.5.2.1.99.1071.28052166218470...</td>\n",
              "      <td>CT ABD PELVISWITH CHEST IMAGES W IV CON</td>\n",
              "      <td>12-31-1900</td>\n",
              "      <td>Lung 5.0 CE</td>\n",
              "      <td>TOSHIBA</td>\n",
              "      <td>CT</td>\n",
              "      <td>1.2.840.10008.5.1.4.1.1.2</td>\n",
              "      <td>120</td>\n",
              "      <td>63405842</td>\n",
              "      <td>3.000000</td>\n",
              "      <td>Creative Commons Attribution 4.0 International...</td>\n",
              "      <td>https://creativecommons.org/licenses/by/4.0/</td>\n",
              "      <td>0</td>\n",
              "    </tr>\n",
              "  </tbody>\n",
              "</table>\n",
              "</div>\n",
              "      <button class=\"colab-df-convert\" onclick=\"convertToInteractive('df-82cd7336-f61c-4285-976f-eddfbfee77d2')\"\n",
              "              title=\"Convert this dataframe to an interactive table.\"\n",
              "              style=\"display:none;\">\n",
              "        \n",
              "  <svg xmlns=\"http://www.w3.org/2000/svg\" height=\"24px\"viewBox=\"0 0 24 24\"\n",
              "       width=\"24px\">\n",
              "    <path d=\"M0 0h24v24H0V0z\" fill=\"none\"/>\n",
              "    <path d=\"M18.56 5.44l.94 2.06.94-2.06 2.06-.94-2.06-.94-.94-2.06-.94 2.06-2.06.94zm-11 1L8.5 8.5l.94-2.06 2.06-.94-2.06-.94L8.5 2.5l-.94 2.06-2.06.94zm10 10l.94 2.06.94-2.06 2.06-.94-2.06-.94-.94-2.06-.94 2.06-2.06.94z\"/><path d=\"M17.41 7.96l-1.37-1.37c-.4-.4-.92-.59-1.43-.59-.52 0-1.04.2-1.43.59L10.3 9.45l-7.72 7.72c-.78.78-.78 2.05 0 2.83L4 21.41c.39.39.9.59 1.41.59.51 0 1.02-.2 1.41-.59l7.78-7.78 2.81-2.81c.8-.78.8-2.07 0-2.86zM5.41 20L4 18.59l7.72-7.72 1.47 1.35L5.41 20z\"/>\n",
              "  </svg>\n",
              "      </button>\n",
              "      \n",
              "  <style>\n",
              "    .colab-df-container {\n",
              "      display:flex;\n",
              "      flex-wrap:wrap;\n",
              "      gap: 12px;\n",
              "    }\n",
              "\n",
              "    .colab-df-convert {\n",
              "      background-color: #E8F0FE;\n",
              "      border: none;\n",
              "      border-radius: 50%;\n",
              "      cursor: pointer;\n",
              "      display: none;\n",
              "      fill: #1967D2;\n",
              "      height: 32px;\n",
              "      padding: 0 0 0 0;\n",
              "      width: 32px;\n",
              "    }\n",
              "\n",
              "    .colab-df-convert:hover {\n",
              "      background-color: #E2EBFA;\n",
              "      box-shadow: 0px 1px 2px rgba(60, 64, 67, 0.3), 0px 1px 3px 1px rgba(60, 64, 67, 0.15);\n",
              "      fill: #174EA6;\n",
              "    }\n",
              "\n",
              "    [theme=dark] .colab-df-convert {\n",
              "      background-color: #3B4455;\n",
              "      fill: #D2E3FC;\n",
              "    }\n",
              "\n",
              "    [theme=dark] .colab-df-convert:hover {\n",
              "      background-color: #434B5C;\n",
              "      box-shadow: 0px 1px 3px 1px rgba(0, 0, 0, 0.15);\n",
              "      filter: drop-shadow(0px 1px 2px rgba(0, 0, 0, 0.3));\n",
              "      fill: #FFFFFF;\n",
              "    }\n",
              "  </style>\n",
              "\n",
              "      <script>\n",
              "        const buttonEl =\n",
              "          document.querySelector('#df-82cd7336-f61c-4285-976f-eddfbfee77d2 button.colab-df-convert');\n",
              "        buttonEl.style.display =\n",
              "          google.colab.kernel.accessAllowed ? 'block' : 'none';\n",
              "\n",
              "        async function convertToInteractive(key) {\n",
              "          const element = document.querySelector('#df-82cd7336-f61c-4285-976f-eddfbfee77d2');\n",
              "          const dataTable =\n",
              "            await google.colab.kernel.invokeFunction('convertToInteractive',\n",
              "                                                     [key], {});\n",
              "          if (!dataTable) return;\n",
              "\n",
              "          const docLinkHtml = 'Like what you see? Visit the ' +\n",
              "            '<a target=\"_blank\" href=https://colab.research.google.com/notebooks/data_table.ipynb>data table notebook</a>'\n",
              "            + ' to learn more about interactive tables.';\n",
              "          element.innerHTML = '';\n",
              "          dataTable['output_type'] = 'display_data';\n",
              "          await google.colab.output.renderOutput(dataTable, element);\n",
              "          const docLink = document.createElement('div');\n",
              "          docLink.innerHTML = docLinkHtml;\n",
              "          element.appendChild(docLink);\n",
              "        }\n",
              "      </script>\n",
              "    </div>\n",
              "  </div>\n",
              "  "
            ]
          },
          "metadata": {}
        }
      ]
    },
    {
      "cell_type": "code",
      "source": [
        "os.rename(\"tciaDownload\", \"tciaDownloadCovid\")\n",
        "PathDicom = \"tciaDownloadCovid\"\n",
        "DCMFiles = [] \n",
        "for dirName, subdirList, fileList in os.walk(PathDicom):\n",
        "    for filename in fileList:\n",
        "        if \".dcm\" in filename.lower():\n",
        "            DCMFiles.append(os.path.join(dirName,filename))\n",
        "print(\"Number of (.dcm) files =\", len(DCMFiles))"
      ],
      "metadata": {
        "colab": {
          "base_uri": "https://localhost:8080/"
        },
        "id": "RZ1yfY6wwKLd",
        "outputId": "cbed3de2-bdb3-4094-f019-2fb5e99bc72f"
      },
      "execution_count": 9,
      "outputs": [
        {
          "output_type": "stream",
          "name": "stdout",
          "text": [
            "Number of (.dcm) files = 1045\n"
          ]
        }
      ]
    },
    {
      "cell_type": "code",
      "source": [
        "# Extract pixel data from image files\n",
        "\n",
        "X_covid = []\n",
        "y_covid = []\n",
        "for k in DCMFiles:\n",
        "    Images = di.read_file(k,force=True)\n",
        "    X_covid.append(Images.pixel_array)\n",
        "    y_covid.append(0) # 0 = covid data, 1 = cancer data"
      ],
      "metadata": {
        "id": "fXYLW3gWweq2"
      },
      "execution_count": 10,
      "outputs": []
    },
    {
      "cell_type": "code",
      "source": [
        "# Use the data frame to find the Series UID where the Modality is CT\n",
        "dicom_data_dir = \"tciaDownloadCovid/\"\n",
        "ct_series_uid = df.at[df.Modality.eq('CT').idxmax(), 'Series UID']\n",
        "dicom_ct_dir = os.path.join(dicom_data_dir, ct_series_uid)\n",
        "\n",
        "# Load and sort the DICOM data into a volume - since no series_uid is\n",
        "#    specified with this read command, it will load the first series in the directory.\n",
        "dicom_image_large = itk.imread(dicom_ct_dir, itk.F)\n",
        "\n",
        "# To save time for this demo, we subsample the image in the x and y dimensions\n",
        "new_spacing = list(dicom_image_large.GetSpacing())\n",
        "new_spacing[:2] = [x*3 for x in new_spacing[:2]]\n",
        "new_size = list(dicom_image_large.GetLargestPossibleRegion().GetSize())\n",
        "new_size[:2] = [x//3 for x in new_size[:2]]\n",
        "dicom_image = itk.resample_image_filter(Input=dicom_image_large,\n",
        "                                        output_spacing=new_spacing, \n",
        "                                        output_origin=dicom_image_large.GetOrigin(), \n",
        "                                        output_direction=dicom_image_large.GetDirection(),\n",
        "                                        size=new_size)\n",
        "print(f\"New spacing = {new_spacing}\")\n",
        "print(f\"New size = {new_size}\")"
      ],
      "metadata": {
        "colab": {
          "base_uri": "https://localhost:8080/",
          "height": 356
        },
        "id": "-tz2eYGZwoEv",
        "outputId": "13c2451c-f1cd-438f-cc91-5fe0b1a1920b"
      },
      "execution_count": 11,
      "outputs": [
        {
          "output_type": "error",
          "ename": "OSError",
          "evalue": "ignored",
          "traceback": [
            "\u001b[0;31m---------------------------------------------------------------------------\u001b[0m",
            "\u001b[0;31mOSError\u001b[0m                                   Traceback (most recent call last)",
            "\u001b[0;32m<ipython-input-11-3b7187ac4ba2>\u001b[0m in \u001b[0;36m<module>\u001b[0;34m\u001b[0m\n\u001b[1;32m      6\u001b[0m \u001b[0;31m# Load and sort the DICOM data into a volume - since no series_uid is\u001b[0m\u001b[0;34m\u001b[0m\u001b[0;34m\u001b[0m\u001b[0;34m\u001b[0m\u001b[0m\n\u001b[1;32m      7\u001b[0m \u001b[0;31m#    specified with this read command, it will load the first series in the directory.\u001b[0m\u001b[0;34m\u001b[0m\u001b[0;34m\u001b[0m\u001b[0;34m\u001b[0m\u001b[0m\n\u001b[0;32m----> 8\u001b[0;31m \u001b[0mdicom_image_large\u001b[0m \u001b[0;34m=\u001b[0m \u001b[0mitk\u001b[0m\u001b[0;34m.\u001b[0m\u001b[0mimread\u001b[0m\u001b[0;34m(\u001b[0m\u001b[0mdicom_ct_dir\u001b[0m\u001b[0;34m,\u001b[0m \u001b[0mitk\u001b[0m\u001b[0;34m.\u001b[0m\u001b[0mF\u001b[0m\u001b[0;34m)\u001b[0m\u001b[0;34m\u001b[0m\u001b[0;34m\u001b[0m\u001b[0m\n\u001b[0m\u001b[1;32m      9\u001b[0m \u001b[0;34m\u001b[0m\u001b[0m\n\u001b[1;32m     10\u001b[0m \u001b[0;31m# To save time for this demo, we subsample the image in the x and y dimensions\u001b[0m\u001b[0;34m\u001b[0m\u001b[0;34m\u001b[0m\u001b[0;34m\u001b[0m\u001b[0m\n",
            "\u001b[0;32m/usr/local/lib/python3.8/dist-packages/itk/support/extras.py\u001b[0m in \u001b[0;36mimread\u001b[0;34m(filename, pixel_type, fallback_only, imageio)\u001b[0m\n\u001b[1;32m   1194\u001b[0m                 \u001b[0;32mraise\u001b[0m \u001b[0mFileNotFoundError\u001b[0m\u001b[0;34m(\u001b[0m\u001b[0;34mf\"no DICOMs in: {filename}.\"\u001b[0m\u001b[0;34m)\u001b[0m\u001b[0;34m\u001b[0m\u001b[0;34m\u001b[0m\u001b[0m\n\u001b[1;32m   1195\u001b[0m             \u001b[0;32mif\u001b[0m \u001b[0mlen\u001b[0m\u001b[0;34m(\u001b[0m\u001b[0mseries_uid\u001b[0m\u001b[0;34m)\u001b[0m \u001b[0;34m>\u001b[0m \u001b[0;36m1\u001b[0m\u001b[0;34m:\u001b[0m\u001b[0;34m\u001b[0m\u001b[0;34m\u001b[0m\u001b[0m\n\u001b[0;32m-> 1196\u001b[0;31m                 raise OSError(\n\u001b[0m\u001b[1;32m   1197\u001b[0m                     \u001b[0;34mf\"the directory: {filename} contains more than one DICOM series.\"\u001b[0m\u001b[0;34m\u001b[0m\u001b[0;34m\u001b[0m\u001b[0m\n\u001b[1;32m   1198\u001b[0m                 )\n",
            "\u001b[0;31mOSError\u001b[0m: the directory: tciaDownloadCovid/1.3.6.1.4.1.14519.5.2.1.99.1071.14850676509103506699400577275960 contains more than one DICOM series."
          ]
        }
      ]
    },
    {
      "cell_type": "markdown",
      "source": [
        "## Train test split"
      ],
      "metadata": {
        "id": "tw4hJ9HuxvS8"
      }
    },
    {
      "cell_type": "code",
      "source": [
        "# Convert to array \n",
        "X_cancer = np.array(X_cancer)\n",
        "X_covid = np.array(X_covid)\n",
        "\n",
        "print(X_cancer.ndim)\n",
        "print(X_covid.ndim)\n",
        "\n",
        "# Split into training and testing sets for both types of images\n",
        "X_cancer_train, X_cancer_test, y_cancer_train, y_cancer_test = train_test_split(\n",
        "    X_cancer, y_cancer, test_size=0.2)\n",
        "X_covid_train, X_covid_test, y_covid_train, y_covid_test = train_test_split(\n",
        "    X_covid, y_covid, test_size=0.2)\n"
      ],
      "metadata": {
        "colab": {
          "base_uri": "https://localhost:8080/"
        },
        "id": "UWM6RjqWxxkv",
        "outputId": "4c2bc511-6e94-4238-991f-98f29ede33a4"
      },
      "execution_count": 20,
      "outputs": [
        {
          "output_type": "stream",
          "name": "stdout",
          "text": [
            "3\n",
            "1\n"
          ]
        }
      ]
    },
    {
      "cell_type": "code",
      "source": [
        "X_cancer.shape"
      ],
      "metadata": {
        "colab": {
          "base_uri": "https://localhost:8080/"
        },
        "id": "N7_3e3dX37RR",
        "outputId": "1a357fb7-8f8c-4861-a1f0-3e07f17bd348"
      },
      "execution_count": 22,
      "outputs": [
        {
          "output_type": "execute_result",
          "data": {
            "text/plain": [
              "(128, 512, 512)"
            ]
          },
          "metadata": {},
          "execution_count": 22
        }
      ]
    },
    {
      "cell_type": "code",
      "source": [
        "X_covid.shape"
      ],
      "metadata": {
        "colab": {
          "base_uri": "https://localhost:8080/"
        },
        "id": "Ux8VvNnb4F1l",
        "outputId": "49943cec-cdd5-42fa-9a03-37ff3781bf29"
      },
      "execution_count": 23,
      "outputs": [
        {
          "output_type": "execute_result",
          "data": {
            "text/plain": [
              "(1045,)"
            ]
          },
          "metadata": {},
          "execution_count": 23
        }
      ]
    },
    {
      "cell_type": "code",
      "source": [
        "# Merge sets for both types of images\n",
        "X_train = np.concatenate((X_cancer_train, X_covid_train), axis=0)\n",
        "X_test = np.concatenate((X_cancer_test, X_covid_test), axis=0)\n",
        "y_train = np.concatenate((y_cancer_train, y_covid_train), axis=0)\n",
        "y_test = np.concatenate((y_cancer_test, y_covid_test), axis=0)"
      ],
      "metadata": {
        "colab": {
          "base_uri": "https://localhost:8080/",
          "height": 269
        },
        "id": "yGqohFPgy4sT",
        "outputId": "d8581b14-a729-45e6-de49-4ec38a6838b2"
      },
      "execution_count": 19,
      "outputs": [
        {
          "output_type": "error",
          "ename": "ValueError",
          "evalue": "ignored",
          "traceback": [
            "\u001b[0;31m---------------------------------------------------------------------------\u001b[0m",
            "\u001b[0;31mValueError\u001b[0m                                Traceback (most recent call last)",
            "\u001b[0;32m<ipython-input-19-a46d0c0a2fe8>\u001b[0m in \u001b[0;36m<module>\u001b[0;34m\u001b[0m\n\u001b[1;32m      1\u001b[0m \u001b[0;31m# Merge sets for both types of images\u001b[0m\u001b[0;34m\u001b[0m\u001b[0;34m\u001b[0m\u001b[0;34m\u001b[0m\u001b[0m\n\u001b[0;32m----> 2\u001b[0;31m \u001b[0mX_train\u001b[0m \u001b[0;34m=\u001b[0m \u001b[0mnp\u001b[0m\u001b[0;34m.\u001b[0m\u001b[0mconcatenate\u001b[0m\u001b[0;34m(\u001b[0m\u001b[0;34m(\u001b[0m\u001b[0mX_cancer_train\u001b[0m\u001b[0;34m,\u001b[0m \u001b[0mX_covid_train\u001b[0m\u001b[0;34m)\u001b[0m\u001b[0;34m,\u001b[0m \u001b[0maxis\u001b[0m\u001b[0;34m=\u001b[0m\u001b[0;36m0\u001b[0m\u001b[0;34m)\u001b[0m\u001b[0;34m\u001b[0m\u001b[0;34m\u001b[0m\u001b[0m\n\u001b[0m\u001b[1;32m      3\u001b[0m \u001b[0mX_test\u001b[0m \u001b[0;34m=\u001b[0m \u001b[0mnp\u001b[0m\u001b[0;34m.\u001b[0m\u001b[0mconcatenate\u001b[0m\u001b[0;34m(\u001b[0m\u001b[0;34m(\u001b[0m\u001b[0mX_cancer_test\u001b[0m\u001b[0;34m,\u001b[0m \u001b[0mX_covid_test\u001b[0m\u001b[0;34m)\u001b[0m\u001b[0;34m,\u001b[0m \u001b[0maxis\u001b[0m\u001b[0;34m=\u001b[0m\u001b[0;36m0\u001b[0m\u001b[0;34m)\u001b[0m\u001b[0;34m\u001b[0m\u001b[0;34m\u001b[0m\u001b[0m\n\u001b[1;32m      4\u001b[0m \u001b[0my_train\u001b[0m \u001b[0;34m=\u001b[0m \u001b[0mnp\u001b[0m\u001b[0;34m.\u001b[0m\u001b[0mconcatenate\u001b[0m\u001b[0;34m(\u001b[0m\u001b[0;34m(\u001b[0m\u001b[0my_cancer_train\u001b[0m\u001b[0;34m,\u001b[0m \u001b[0my_covid_train\u001b[0m\u001b[0;34m)\u001b[0m\u001b[0;34m,\u001b[0m \u001b[0maxis\u001b[0m\u001b[0;34m=\u001b[0m\u001b[0;36m0\u001b[0m\u001b[0;34m)\u001b[0m\u001b[0;34m\u001b[0m\u001b[0;34m\u001b[0m\u001b[0m\n\u001b[1;32m      5\u001b[0m \u001b[0my_test\u001b[0m \u001b[0;34m=\u001b[0m \u001b[0mnp\u001b[0m\u001b[0;34m.\u001b[0m\u001b[0mconcatenate\u001b[0m\u001b[0;34m(\u001b[0m\u001b[0;34m(\u001b[0m\u001b[0my_cancer_test\u001b[0m\u001b[0;34m,\u001b[0m \u001b[0my_covid_test\u001b[0m\u001b[0;34m)\u001b[0m\u001b[0;34m,\u001b[0m \u001b[0maxis\u001b[0m\u001b[0;34m=\u001b[0m\u001b[0;36m0\u001b[0m\u001b[0;34m)\u001b[0m\u001b[0;34m\u001b[0m\u001b[0;34m\u001b[0m\u001b[0m\n",
            "\u001b[0;32m<__array_function__ internals>\u001b[0m in \u001b[0;36mconcatenate\u001b[0;34m(*args, **kwargs)\u001b[0m\n",
            "\u001b[0;31mValueError\u001b[0m: all the input arrays must have same number of dimensions, but the array at index 0 has 3 dimension(s) and the array at index 1 has 1 dimension(s)"
          ]
        }
      ]
    }
  ]
}